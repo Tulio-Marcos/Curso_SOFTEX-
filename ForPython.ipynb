{
  "nbformat": 4,
  "nbformat_minor": 0,
  "metadata": {
    "colab": {
      "name": "Untitled0.ipynb",
      "provenance": [],
      "authorship_tag": "ABX9TyPoMhy/yRWzu63U/rJ68+lr",
      "include_colab_link": true
    },
    "kernelspec": {
      "name": "python3",
      "display_name": "Python 3"
    },
    "language_info": {
      "name": "python"
    }
  },
  "cells": [
    {
      "cell_type": "markdown",
      "metadata": {
        "id": "view-in-github",
        "colab_type": "text"
      },
      "source": [
        "<a href=\"https://colab.research.google.com/github/Tulio-Marcos/Curso_SOFTEX-/blob/'main'/ForPython.ipynb\" target=\"_parent\"><img src=\"https://colab.research.google.com/assets/colab-badge.svg\" alt=\"Open In Colab\"/></a>"
      ]
    },
    {
      "cell_type": "code",
      "source": [
        "import time\n",
        "\n",
        "tempoInicial= 30\n",
        "tempoFinal = 0\n",
        "print('Contagem Iniciada')\n",
        "for x in range(tempoInicial,tempoFinal,-1):\n",
        "\n",
        "  print(x)\n",
        "  time.sleep(2)\n",
        "  if x ==1 :\n",
        "    print('BUUMMM')\n",
        "   \n",
        " "
      ],
      "metadata": {
        "colab": {
          "base_uri": "https://localhost:8080/"
        },
        "id": "4ZtMclSuSN2z",
        "outputId": "0c1206ce-62cd-4497-aaaa-578182b02c5c"
      },
      "execution_count": null,
      "outputs": [
        {
          "output_type": "stream",
          "name": "stdout",
          "text": [
            "Contagem Iniciada\n",
            "30\n",
            "29\n",
            "28\n",
            "27\n",
            "26\n",
            "25\n",
            "24\n",
            "23\n",
            "22\n",
            "21\n",
            "20\n",
            "19\n"
          ]
        }
      ]
    }
  ]
}