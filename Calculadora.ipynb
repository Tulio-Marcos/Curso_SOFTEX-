{
  "nbformat": 4,
  "nbformat_minor": 0,
  "metadata": {
    "colab": {
      "name": "Untitled0.ipynb",
      "provenance": [],
      "authorship_tag": "ABX9TyMh0Ao+Eh0njRmRyLHbYZA8",
      "include_colab_link": true
    },
    "kernelspec": {
      "name": "python3",
      "display_name": "Python 3"
    },
    "language_info": {
      "name": "python"
    }
  },
  "cells": [
    {
      "cell_type": "markdown",
      "metadata": {
        "id": "view-in-github",
        "colab_type": "text"
      },
      "source": [
        "<a href=\"https://colab.research.google.com/github/Tulio-Marcos/Curso_SOFTEX-/blob/'main'/Calculadora.ipynb\" target=\"_parent\"><img src=\"https://colab.research.google.com/assets/colab-badge.svg\" alt=\"Open In Colab\"/></a>"
      ]
    },
    {
      "cell_type": "code",
      "source": [
        "print('Primeiro Numero');\n",
        "numero1 = float(input());\n",
        "print('Operador')\n",
        "operador = input();\n",
        "print('Segundo Numero')\n",
        "numero2 = float(input());\n",
        "\n",
        "\n",
        "\n",
        "\n",
        "\n",
        "def calculadora(numero1,operador,numero2,):\n",
        "  if(operador =='+'):\n",
        "    resul=numero1+numero2;\n",
        "    return resul;\n",
        "\n",
        "  elif (operador == '-'):\n",
        "    resul= numero1 - numero2;\n",
        "    return resul;\n",
        "\n",
        "  elif( operador == '*'):\n",
        "    resul = numero1 * numero2;\n",
        "    return resul;\n",
        "  \n",
        "  elif( operador == '/'):\n",
        "    resul = numero1 / numero2;\n",
        "    return resul;\n",
        "  \n",
        "  else:\n",
        "    print('Operador INVALIDO')\n",
        "\n",
        "print(calculadora(numero1,operador,numero2))\n"
      ],
      "metadata": {
        "id": "HWMVQaphQGcL",
        "colab": {
          "base_uri": "https://localhost:8080/"
        },
        "outputId": "2b39f307-aeaa-4aa2-b96b-8ca7edfe8997"
      },
      "execution_count": 9,
      "outputs": [
        {
          "output_type": "stream",
          "name": "stdout",
          "text": [
            "Primeiro Numero\n",
            "50\n",
            "Operador\n",
            "*\n",
            "Segundo Numero\n",
            "50\n",
            "2500.0\n"
          ]
        }
      ]
    }
  ]
}