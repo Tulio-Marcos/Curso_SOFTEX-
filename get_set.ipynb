{
  "cells": [
    {
      "cell_type": "markdown",
      "metadata": {
        "id": "view-in-github",
        "colab_type": "text"
      },
      "source": [
        "<a href=\"https://colab.research.google.com/github/Tulio-Marcos/Curso_SOFTEX-/blob/'main'/get_set.ipynb\" target=\"_parent\"><img src=\"https://colab.research.google.com/assets/colab-badge.svg\" alt=\"Open In Colab\"/></a>"
      ]
    },
    {
      "cell_type": "code",
      "source": [
        "\n",
        "class teste():\n",
        "  def __init__ (self,valor):\n",
        "    self.x = valor\n",
        "  \n",
        "  def get_valor(self):\n",
        "    return self.x\n",
        "\n",
        "  def set_valor(self,v):\n",
        "    self.x = v\n",
        "\n",
        "\n",
        "teste=teste(10);\n",
        "print(teste.get_valor())\n",
        "valAnterio =teste.get_valor();\n",
        "\n",
        "val =  int(input(\" Digite o Valor do deposito\"))\n",
        "teste.set_valor(valAnterio+val)\n",
        "print(teste.get_valor())\n",
        "\n"
      ],
      "metadata": {
        "colab": {
          "base_uri": "https://localhost:8080/"
        },
        "id": "YUu_GmWp1VWc",
        "outputId": "eaaade18-47a0-4249-f75a-370af043db8f"
      },
      "execution_count": 9,
      "outputs": [
        {
          "output_type": "stream",
          "name": "stdout",
          "text": [
            "10\n",
            " Digite o Valor do deposito500\n",
            "510\n"
          ]
        }
      ]
    }
  ],
  "metadata": {
    "colab": {
      "name": "Untitled0.ipynb",
      "provenance": [],
      "authorship_tag": "ABX9TyNbutUJbJxruBFH+00aGmRJ",
      "include_colab_link": true
    },
    "kernelspec": {
      "display_name": "Python 3",
      "name": "python3"
    },
    "language_info": {
      "name": "python"
    }
  },
  "nbformat": 4,
  "nbformat_minor": 0
}