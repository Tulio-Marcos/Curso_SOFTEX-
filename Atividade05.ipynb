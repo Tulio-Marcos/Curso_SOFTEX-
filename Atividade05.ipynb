{
  "nbformat": 4,
  "nbformat_minor": 0,
  "metadata": {
    "colab": {
      "name": "Untitled0.ipynb",
      "provenance": [],
      "authorship_tag": "ABX9TyPEjGLWnRSXBYUNxidbjReN",
      "include_colab_link": true
    },
    "kernelspec": {
      "name": "python3",
      "display_name": "Python 3"
    },
    "language_info": {
      "name": "python"
    }
  },
  "cells": [
    {
      "cell_type": "markdown",
      "metadata": {
        "id": "view-in-github",
        "colab_type": "text"
      },
      "source": [
        "<a href=\"https://colab.research.google.com/github/Tulio-Marcos/Curso_SOFTEX-/blob/'main'/Atividade05.ipynb\" target=\"_parent\"><img src=\"https://colab.research.google.com/assets/colab-badge.svg\" alt=\"Open In Colab\"/></a>"
      ]
    },
    {
      "cell_type": "code",
      "source": [
        "nome= (input('Digite seu nome Completo'));\n",
        "\n",
        "inicio = True;\n",
        "\n",
        "while inicio == True : \n",
        "  nascimento = int(input('Digite sua data de nascimento'));\n",
        "  try:\n",
        "\n",
        "    if (nascimento >= 1922 and  nascimento <= 2022):\n",
        "      idade = 2022 - nascimento; \n",
        "      inicio = False ;\n",
        "      print('Ola ' + nome),\n",
        "      print(idade)\n",
        "\n",
        "    else:\n",
        "      raise Exception\n",
        "\n",
        "\n",
        "  except :\n",
        "    print('Erro')  ;\n"
      ],
      "metadata": {
        "colab": {
          "base_uri": "https://localhost:8080/"
        },
        "id": "Z5dIvLQOs7zY",
        "outputId": "9232ed7c-8e4b-40d9-c42b-e4b2ada89c75"
      },
      "execution_count": 10,
      "outputs": [
        {
          "output_type": "stream",
          "name": "stdout",
          "text": [
            "Digite seu nome Completovfdvdgfd\n",
            "Digite sua data de nascimento1995\n",
            "Ola vfdvdgfd\n",
            "27\n"
          ]
        }
      ]
    }
  ]
}