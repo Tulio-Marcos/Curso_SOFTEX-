{
  "nbformat": 4,
  "nbformat_minor": 0,
  "metadata": {
    "colab": {
      "name": "Untitled0.ipynb",
      "provenance": [],
      "authorship_tag": "ABX9TyNztPHbrE5UYttPFCT+UyPv",
      "include_colab_link": true
    },
    "kernelspec": {
      "name": "python3",
      "display_name": "Python 3"
    },
    "language_info": {
      "name": "python"
    }
  },
  "cells": [
    {
      "cell_type": "markdown",
      "metadata": {
        "id": "view-in-github",
        "colab_type": "text"
      },
      "source": [
        "<a href=\"https://colab.research.google.com/github/Tulio-Marcos/Curso_SOFTEX-/blob/'main'/LoopCalculadora.ipynb\" target=\"_parent\"><img src=\"https://colab.research.google.com/assets/colab-badge.svg\" alt=\"Open In Colab\"/></a>"
      ]
    },
    {
      "cell_type": "code",
      "source": [
        "def calculadora(numero1,operador,numero2,):\n",
        "\n",
        "\n",
        "    if(operador =='+'):\n",
        "      resul=numero1+numero2;\n",
        "      return resul;\n",
        "\n",
        "    elif (operador == '-'):\n",
        "      resul= numero1 - numero2;\n",
        "      return resul;\n",
        "\n",
        "    elif( operador == '*'):\n",
        "      resul = numero1 * numero2;\n",
        "      return resul;\n",
        "    \n",
        "    elif( operador == '/'):\n",
        "      resul = numero1 / numero2;\n",
        "      return resul;\n",
        "    \n",
        "    else:\n",
        "      print('Operador INVALIDO')\n",
        "\n",
        "sair= \"\"\n",
        "while sair!= \"sim\":\n",
        "  print('Primeiro Numero');\n",
        "  numero1 = float(input());\n",
        "  print('Operador')\n",
        "  operador = input();\n",
        "  print('Segundo Numero')\n",
        "  numero2 = float(input());\n",
        "\n",
        "  print(calculadora(numero1,operador,numero2));\n",
        "  print('Deseja Sair?')\n",
        "  sair= input()\n",
        "\n"
      ],
      "metadata": {
        "colab": {
          "base_uri": "https://localhost:8080/"
        },
        "id": "yXFuvkL3alDo",
        "outputId": "6cf75fed-9814-4fcf-bb21-723e52a4cfd2"
      },
      "execution_count": 14,
      "outputs": [
        {
          "name": "stdout",
          "output_type": "stream",
          "text": [
            "Primeiro Numero\n",
            "55\n",
            "Operador\n",
            "/\n",
            "Segundo Numero\n",
            "2\n",
            "27.5\n",
            "Deseja Sair?\n",
            "sim\n"
          ]
        }
      ]
    }
  ]
}